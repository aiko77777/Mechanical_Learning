{
 "cells": [
  {
   "cell_type": "code",
   "execution_count": 1,
   "metadata": {},
   "outputs": [],
   "source": [
    "import pandas as pd\n",
    "import matplotlib.pyplot as plt\n",
    "import numpy as np"
   ]
  },
  {
   "cell_type": "code",
   "execution_count": 5,
   "metadata": {},
   "outputs": [
    {
     "name": "stdout",
     "output_type": "stream",
     "text": [
      "    YearsExperience  Salary\n",
      "0               0.3    36.2\n",
      "1               0.6    36.6\n",
      "2               0.8    42.8\n",
      "3               1.1    39.3\n",
      "4               1.3    46.2\n",
      "5               1.5    37.7\n",
      "6               2.0    43.5\n",
      "7               2.2    39.8\n",
      "8               2.9    56.6\n",
      "9               3.0    60.1\n",
      "10              3.2    54.4\n",
      "11              3.2    64.4\n",
      "12              3.7    57.1\n",
      "13              3.9    63.2\n",
      "14              4.0    55.7\n",
      "15              4.0    56.9\n",
      "16              4.1    57.0\n",
      "17              4.5    61.1\n",
      "18              4.9    67.9\n",
      "19              5.1    66.0\n",
      "20              5.3    83.0\n",
      "21              5.9    81.3\n",
      "22              6.0    93.9\n",
      "23              6.8    91.7\n",
      "24              7.1    98.2\n",
      "25              7.9   101.3\n",
      "26              8.2   113.8\n",
      "27              8.7   109.4\n",
      "28              9.0   105.5\n",
      "29              9.5   116.9\n",
      "30              9.6   112.6\n",
      "31             10.3   122.3\n",
      "32             10.5   121.8\n"
     ]
    },
    {
     "data": {
      "image/png": "[encoded data removed]",
      "text/plain": [
       "<Figure size 640x480 with 1 Axes>"
      ]
     },
     "metadata": {},
     "output_type": "display_data"
    }
   ],
   "source": [
    "data_url=\"https://raw.githubusercontent.com/GrandmaCan/ML/main/Resgression/Salary_Data.csv\" #取得data\n",
    "data=pd.read_csv(data_url)\n",
    "print(data)\n",
    "x_axis=data[\"YearsExperience\"]\n",
    "y_axis=data[\"Salary\"]\n",
    "def plt_graph(w,b):\n",
    "\n",
    "  plt.scatter(x_axis,y_axis,marker=\"x\",c=\"red\") #繪製散佈圖\n",
    "  plt.title(\"years-salary\")\n",
    "  plt.xlabel(\"years\")\n",
    "  plt.ylabel(\"salary\")\n",
    "  #==================\n",
    "#plt_graph(0,0)"
   ]
  },
  {
   "cell_type": "code",
   "execution_count": 4,
   "metadata": {},
   "outputs": [],
   "source": [
    "def calculate_cost(x_axis,y_axis,w,b):\n",
    "    y_pred=x_axis*w+b #pandas做運算output會自動Map到每一項，出來也是一個matrix\n",
    "    cost=(y_axis-y_pred)**2 #cost已經是matrix\n",
    "    return cost.sum()/len(x_axis)  #"
   ]
  },
  {
   "cell_type": "code",
   "execution_count": null,
   "metadata": {},
   "outputs": [],
   "source": [
    "def calculate_gradient(x,y,w,b):\n",
    "  w_grad=(-2*x*(y-w*x-b)).sum()/len(x)  #w方向的斜率\n",
    "  b_grad=(-2*(y-w*x-b)).sum()/len(x)  #b方向的斜率\n",
    "  return w_grad,b_grad"
   ]
  },
  {
   "cell_type": "code",
   "execution_count": null,
   "metadata": {},
   "outputs": [],
   "source": [
    "cost=np.zeros((201,201))\n",
    "i=0\n",
    "for w in range(-100,101):\n",
    "  j=0\n",
    "  for b in range(-100,101):\n",
    "    cost[i][j]=calculate_cost(x_axis,y_axis,w,b)\n",
    "    j+=1\n",
    "  i+=1"
   ]
  },
  {
   "cell_type": "code",
   "execution_count": null,
   "metadata": {},
   "outputs": [],
   "source": [
    "\n",
    "def gradient_desent(w,b,learning_rate):\n",
    "  w_grad,b_grad=calculate_gradient(x_axis,y_axis,w,b)\n",
    "  w=(w-w_grad*learning_rate)\n",
    "  b=b-b_grad*learning_rate\n",
    "  return w,b"
   ]
  },
  {
   "cell_type": "code",
   "execution_count": null,
   "metadata": {},
   "outputs": [],
   "source": [
    "w=-50\n",
    "b=0\n",
    "learning_rate=0.001\n",
    "count=15001\n",
    "w_list=[]\n",
    "b_list=[]\n",
    "desent_cost_list=[]\n",
    "count_list=list(filter(lambda x:x%1000==0,range(count)))\n",
    "for i in range(count):\n",
    "  w,b=gradient_desent(w,b,learning_rate)\n",
    "  \n",
    "  if(i%1000==0):\n",
    "    print(f\"w={w:.2f},b={b:.2f},cost={calculate_cost(x_axis,y_axis,w,b):.2f},count={i}\")\n",
    "    w_list.append(w)\n",
    "    b_list.append(b)\n",
    "    desent_cost_list.append(calculate_cost(x_axis,y_axis,w,b))\n",
    "\n",
    "plt.plot(count_list,desent_cost_list)\n",
    "plt.xlabel(\"count\")\n",
    "plt.ylabel(\"cost\")\n",
    "plt.show()\n",
    "\n",
    "ax=plt.axes(projection=\"3d\")  #構建3d圖\n",
    "ax.set_title(\"w-b-cost\")\n",
    "ax.set_xlabel(\"w\")\n",
    "ax.set_ylabel(\"b\")\n",
    "ax.set_zlabel(\"cost\")\n",
    "ax.xaxis.set_pane_color(\"white\")\n",
    "ax.yaxis.set_pane_color(\"white\")\n",
    "ax.zaxis.set_pane_color(\"white\")\n",
    "ws=np.arange(-100,101)\n",
    "bs=np.arange(-100,101)\n",
    "b_grid,w_grid=np.meshgrid(bs,ws)  #meshgrid 構築位置矩陣\n",
    "ax.plot_surface(w_grid,b_grid,cost,alpha=0.5)\n",
    "ax.plot(w_list,b_list,desent_cost_list,color=\"red\")\n"
   ]
  }
 ],
 "metadata": {
  "kernelspec": {
   "display_name": "Python 3",
   "language": "python",
   "name": "python3"
  },
  "language_info": {
   "codemirror_mode": {
    "name": "ipython",
    "version": 3
   },
   "file_extension": ".py",
   "mimetype": "text/x-python",
   "name": "python",
   "nbconvert_exporter": "python",
   "pygments_lexer": "ipython3",
   "version": "3.11.2"
  }
 },
 "nbformat": 4,
 "nbformat_minor": 2
}
