{
 "cells": [
  {
   "cell_type": "code",
   "execution_count": null,
   "metadata": {},
   "outputs": [],
   "source": [
    "import numpy as np\n",
    "import pandas as pd\n",
    "from sklearn.preprocessing import OneHotEncoder\n",
    "from sklearn.model_selection import train_test_split"
   ]
  },
  {
   "cell_type": "code",
   "execution_count": null,
   "metadata": {},
   "outputs": [],
   "source": [
    "data=pd.read_csv(\"https://raw.githubusercontent.com/GrandmaCan/ML/main/Resgression/Salary_Data2.csv\")\n",
    "data[\"EducationLevel\"]=data[\"EducationLevel\"].map({\"高中以下\":0,\"大學\":1,\"碩士以上\":2})\n",
    "#data   #show data"
   ]
  },
  {
   "cell_type": "code",
   "execution_count": null,
   "metadata": {},
   "outputs": [],
   "source": [
    "oneHotEncoder=OneHotEncoder()\n",
    "oneHotEncoder.fit(data[[\"EducationLevel\"]])\n",
    "transformed_city=oneHotEncoder.transform(data[[\"EducationLevel\"]]).toarray()  #將sparse matrix轉成普通matrix\n",
    "\n",
    "data[[\"cityA\",\"cityB\",\"cityC\"]]=transformed_city  #原本的City拆成cityA,cityB,cityC\n",
    "#data=data.drop([\"City\"],axis=1) #原本City刪除\n",
    "data=data.drop([\"cityC\"],axis=1)\n",
    "#data   #show data"
   ]
  },
  {
   "cell_type": "code",
   "execution_count": null,
   "metadata": {},
   "outputs": [],
   "source": [
    "x=data[[\"YearsExperience\",\"EducationLevel\",\"cityA\",\"cityB\"]]  #2d array!!\n",
    "y=data[\"Salary\"]\n",
    "\n",
    "x_train, x_test, y_train, y_test=train_test_split(x,y,test_size=0.2,random_state=50)  #test_size:0.2部分當測試集,每一次都是random\n",
    "x_train=x_train.to_numpy()  #轉成numpy array方便計算\n",
    "y_train=y_train.to_numpy()\n",
    "\n",
    "#x_train    #show x_train\n",
    "\n",
    "#w=np.array([1,2,3,4]) #隨意的w (numpy array)\n",
    "#b=1 #隨意b\n",
    "#(x_train*w) #個別元素相乘，每一組array橫向做加總，為w1x1+w2x2+w3x3...\n",
    "#y_pred=(x_train*w).sum(axis=1)+b\n",
    "#print(\"y_pred=\",y_pred)"
   ]
  },
  {
   "cell_type": "markdown",
   "metadata": {},
   "source": [
    "calculate cost function"
   ]
  },
  {
   "cell_type": "code",
   "execution_count": null,
   "metadata": {},
   "outputs": [],
   "source": [
    "def calculate_cost(x,y,w,b):\n",
    "  y_pred=(x*w).sum(axis=1)+b\n",
    "  cost=((y-y_pred)**2).mean()\n",
    "  return cost"
   ]
  },
  {
   "cell_type": "code",
   "execution_count": null,
   "metadata": {},
   "outputs": [],
   "source": [
    "def calculate_gradient(x,y,w,b):\n",
    "  y_pred=((x*w).sum(axis=1)+b)\n",
    "  b_gradient=(y_pred-y)\n",
    "  w_gradient=np.zeros(x.shape[1])\n",
    "  for i in range(x.shape[1]):\n",
    "    w_gradient[i]=(x[:,i]*(y_pred-y)).mean()\n",
    "  return w_gradient,b_gradient.mean()"
   ]
  },
  {
   "cell_type": "code",
   "execution_count": null,
   "metadata": {},
   "outputs": [],
   "source": [
    "def gradient_desent(w,b,learning_rate):\n",
    "  cost=calculate_cost(x_train,y_train,w,b)\n",
    "  w_grad,b_grad=calculate_gradient(x_train,y_train,w,b)\n",
    "  w=(w-w_grad*learning_rate)    #更新w值\n",
    "  b=b-b_grad*learning_rate    #更新b值\n",
    "  if i%500==0:\n",
    "    print(f\"w={w},b={b:.3f},cost={cost:.3f}\")\n",
    "\n",
    "  return w,b"
   ]
  },
  {
   "cell_type": "code",
   "execution_count": null,
   "metadata": {},
   "outputs": [],
   "source": [
    "w=np.array([1,2,3,4])\n",
    "b=0\n",
    "learning_rate=0.01\n",
    "np.set_printoptions(precision=3)\n",
    "for i in range(10000):\n",
    "  w,b=gradient_desent(w,b,learning_rate)\n",
    "  w_final=w\n",
    "  b_final=b\n",
    "y_pred=(w_final*x_test).sum(axis=1)+b_final\n",
    "\n",
    "frame=pd.DataFrame({\n",
    "    \"pred\":y_pred,\n",
    "    \"test\":y_test\n",
    "\n",
    "})\n",
    "\n",
    "#frame  #show frame of comparison between y_pred and y_test"
   ]
  }
 ],
 "metadata": {
  "kernelspec": {
   "display_name": "Python 3",
   "language": "python",
   "name": "python3"
  },
  "language_info": {
   "codemirror_mode": {
    "name": "ipython",
    "version": 3
   },
   "file_extension": ".py",
   "mimetype": "text/x-python",
   "name": "python",
   "nbconvert_exporter": "python",
   "pygments_lexer": "ipython3",
   "version": "3.11.2"
  }
 },
 "nbformat": 4,
 "nbformat_minor": 2
}
